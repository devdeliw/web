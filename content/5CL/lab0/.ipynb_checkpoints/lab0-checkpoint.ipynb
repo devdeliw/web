{
 "cells": [
  {
   "cell_type": "markdown",
   "id": "cac7bde6-dd13-4386-8b54-90d3a0427d67",
   "metadata": {},
   "source": [
    "### Experiment 1 -- Law of Reflection"
   ]
  },
  {
   "cell_type": "code",
   "execution_count": 10,
   "id": "9c7fe99b-e0c8-491e-9169-d1fbb37d91bd",
   "metadata": {},
   "outputs": [
    {
     "data": {
      "text/html": [
       "<div>\n",
       "<style scoped>\n",
       "    .dataframe tbody tr th:only-of-type {\n",
       "        vertical-align: middle;\n",
       "    }\n",
       "\n",
       "    .dataframe tbody tr th {\n",
       "        vertical-align: top;\n",
       "    }\n",
       "\n",
       "    .dataframe thead th {\n",
       "        text-align: right;\n",
       "    }\n",
       "</style>\n",
       "<table border=\"1\" class=\"dataframe\">\n",
       "  <thead>\n",
       "    <tr style=\"text-align: right;\">\n",
       "      <th></th>\n",
       "      <th>Deval</th>\n",
       "      <th>Michaela</th>\n",
       "      <th>SuryaNeil</th>\n",
       "      <th>Theoretical</th>\n",
       "    </tr>\n",
       "  </thead>\n",
       "  <tbody>\n",
       "    <tr>\n",
       "      <th>5</th>\n",
       "      <td>5.5</td>\n",
       "      <td>5.1</td>\n",
       "      <td>5.05</td>\n",
       "      <td>5</td>\n",
       "    </tr>\n",
       "    <tr>\n",
       "      <th>20</th>\n",
       "      <td>20.3</td>\n",
       "      <td>20.1</td>\n",
       "      <td>20.50</td>\n",
       "      <td>20</td>\n",
       "    </tr>\n",
       "    <tr>\n",
       "      <th>40</th>\n",
       "      <td>40.5</td>\n",
       "      <td>41.0</td>\n",
       "      <td>40.00</td>\n",
       "      <td>40</td>\n",
       "    </tr>\n",
       "    <tr>\n",
       "      <th>60</th>\n",
       "      <td>60.0</td>\n",
       "      <td>60.0</td>\n",
       "      <td>60.00</td>\n",
       "      <td>60</td>\n",
       "    </tr>\n",
       "    <tr>\n",
       "      <th>80</th>\n",
       "      <td>80.0</td>\n",
       "      <td>80.0</td>\n",
       "      <td>80.00</td>\n",
       "      <td>80</td>\n",
       "    </tr>\n",
       "  </tbody>\n",
       "</table>\n",
       "</div>"
      ],
      "text/plain": [
       "    Deval  Michaela  SuryaNeil  Theoretical\n",
       "5     5.5       5.1       5.05            5\n",
       "20   20.3      20.1      20.50           20\n",
       "40   40.5      41.0      40.00           40\n",
       "60   60.0      60.0      60.00           60\n",
       "80   80.0      80.0      80.00           80"
      ]
     },
     "execution_count": 10,
     "metadata": {},
     "output_type": "execute_result"
    }
   ],
   "source": [
    "import pandas as pd\n",
    "\n",
    "data = {'Deval': pd.Series([5.5, 20.3, 40.5, 60, 80],\n",
    "                      index=['5', '20', '40', '60', '80']),\n",
    "        'Michaela': pd.Series([5.1, 20.1, 41, 60, 80],\n",
    "                      index=['5', '20', '40', '60', '80']),\n",
    "        'SuryaNeil': pd.Series([5.05, 20.5, 40, 60, 80],\n",
    "                      index=['5', '20', '40', '60', '80']), \n",
    "        'Theoretical': pd.Series([5, 20, 40, 60, 80], \n",
    "                      index=['5', '20', '40', '60', '80'])}\n",
    "\n",
    "df = pd.DataFrame(data)\n",
    "df"
   ]
  },
  {
   "cell_type": "markdown",
   "id": "a9ffbc00-f396-423f-9a98-f65ea3dc9741",
   "metadata": {},
   "source": [
    "###### Calculating Chi Squared"
   ]
  },
  {
   "cell_type": "code",
   "execution_count": 13,
   "id": "19dc47bc-4fc5-499e-adcb-bb720f8a57da",
   "metadata": {},
   "outputs": [],
   "source": [
    "d = df['Deval']\n",
    "m = df['Michaela']\n",
    "s = df['SuryaNeil']\n",
    "t = df['Theoretical']"
   ]
  },
  {
   "cell_type": "code",
   "execution_count": 16,
   "id": "580d1360-e503-49de-9456-907f670163bf",
   "metadata": {},
   "outputs": [
    {
     "name": "stdout",
     "output_type": "stream",
     "text": [
      "7.450000000000003\n",
      "0.5321428571428574\n"
     ]
    }
   ],
   "source": [
    "residuals_squared_sum = 0\n",
    "\n",
    "for i in range(len(d)): \n",
    "    residuals_squared_sum += (d.iloc[i] - t.iloc[i])**2 + (m.iloc[i] - t.iloc[i])**2 + (s.iloc[i] - t.iloc[i])**2\n",
    "\n",
    "chi_square = residuals_squared_sum / 0.5**2\n",
    "# the number of degrees of freedom is 14\n",
    "\n",
    "reduced_chi_squared = chi_square/ 14\n",
    "\n",
    "print(chi_square)\n",
    "print(reduced_chi_squared)"
   ]
  }
 ],
 "metadata": {
  "kernelspec": {
   "display_name": "Python 3 (ipykernel)",
   "language": "python",
   "name": "python3"
  },
  "language_info": {
   "codemirror_mode": {
    "name": "ipython",
    "version": 3
   },
   "file_extension": ".py",
   "mimetype": "text/x-python",
   "name": "python",
   "nbconvert_exporter": "python",
   "pygments_lexer": "ipython3",
   "version": "3.11.6"
  }
 },
 "nbformat": 4,
 "nbformat_minor": 5
}
